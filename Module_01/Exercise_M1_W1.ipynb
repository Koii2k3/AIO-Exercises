{
  "nbformat": 4,
  "nbformat_minor": 0,
  "metadata": {
    "colab": {
      "provenance": [],
      "collapsed_sections": [
        "jW4GQVoREzrR"
      ]
    },
    "kernelspec": {
      "name": "python3",
      "display_name": "Python 3"
    },
    "language_info": {
      "name": "python"
    }
  },
  "cells": [
    {
      "cell_type": "markdown",
      "source": [
        "# Exercise 1"
      ],
      "metadata": {
        "id": "jW4GQVoREzrR"
      }
    },
    {
      "cell_type": "code",
      "execution_count": 136,
      "metadata": {
        "id": "xxE-mmC8Asku"
      },
      "outputs": [],
      "source": [
        "def exercise1(tp, fp, fn):\n",
        "  # Check type\n",
        "  if not isinstance(tp, int):\n",
        "    print('tp must be int')\n",
        "    return\n",
        "  if not isinstance(fp, int):\n",
        "    print('fp must be int')\n",
        "    return\n",
        "  if not isinstance(fn, int):\n",
        "    print('fn must be int')\n",
        "    return\n",
        "\n",
        "  # Check value\n",
        "  if tp < 1 or fp < 1 or fn < 1:\n",
        "    print('tp and fp and fn must be greater than zero')\n",
        "    return\n",
        "\n",
        "  # Calculate\n",
        "  precision = tp / (tp + fp)\n",
        "  recall = tp / (tp + fn)\n",
        "  f1_score = 2 * ((precision * recall) / (precision + recall))\n",
        "\n",
        "  # Print\n",
        "  print(f'Precision: {precision}\\nRecall: {recall}\\nF1-Score: {f1_score}')"
      ]
    },
    {
      "cell_type": "code",
      "source": [
        "exercise1(tp=2,fp=3,fn=4)\n",
        "exercise1(tp='a',fp=3,fn=4)\n",
        "exercise1(tp=2,fp='a',fn=4)\n",
        "exercise1(tp=2,fp=3,fn='a')\n",
        "exercise1(tp=2,fp=3,fn=0)\n",
        "exercise1(tp=2.1,fp=3,fn=0)"
      ],
      "metadata": {
        "colab": {
          "base_uri": "https://localhost:8080/"
        },
        "id": "yGWApJM3CM3k",
        "outputId": "36caa5f3-233e-435b-f623-773c4594d2c0"
      },
      "execution_count": 137,
      "outputs": [
        {
          "output_type": "stream",
          "name": "stdout",
          "text": [
            "Precision: 0.4\n",
            "Recall: 0.3333333333333333\n",
            "F1-Score: 0.3636363636363636\n",
            "tp must be int\n",
            "fp must be int\n",
            "fn must be int\n",
            "tp and fp and fn must be greater than zero\n",
            "tp must be int\n"
          ]
        }
      ]
    },
    {
      "cell_type": "markdown",
      "source": [
        "# Exercise 2"
      ],
      "metadata": {
        "id": "ouZXuCP3E2YB"
      }
    },
    {
      "cell_type": "code",
      "source": [
        "import math"
      ],
      "metadata": {
        "id": "ZS7pC6A7JW3p"
      },
      "execution_count": 19,
      "outputs": []
    },
    {
      "cell_type": "code",
      "source": [
        "def is_number(n):\n",
        "  try:\n",
        "    float(n) # Type - casting the string to 'float'.\n",
        "             # If string is not a valid 'float',\n",
        "             # it'll raise 'ValueError' exception\n",
        "  except ValueError:\n",
        "    return False\n",
        "  return True\n",
        "\n",
        "\n",
        "def exercise2(x, act_fn):\n",
        "  if not is_number(x):\n",
        "    print('x must be a number')\n",
        "    return\n",
        "\n",
        "  x = float(x)\n",
        "  act_fn = act_fn.lower()\n",
        "  if act_fn == 'sigmoid':\n",
        "    print(f'Sigmoid: f({x})=', 1/(1+math.e**(-x)))\n",
        "  elif act_fn == 'relu':\n",
        "    print(f'Relu: f({x})=', 0 if x<=0 else x)\n",
        "  elif act_fn == 'elu':\n",
        "    print(f'Elu: f({x})=', 0.01*(math.e**x-1) if x<=0 else x)\n",
        "  else:\n",
        "    print(f'{act_fn} is not supported')\n"
      ],
      "metadata": {
        "id": "Mf5AwxmcEy54"
      },
      "execution_count": 30,
      "outputs": []
    },
    {
      "cell_type": "code",
      "source": [
        "exercise2(1.5, 'sigmoid')\n",
        "exercise2('abc', 'sigmoid')\n",
        "exercise2(1.5, 'belu')\n",
        "exercise2(1.5, 'relu')\n",
        "exercise2(-1.5, 'relu')\n",
        "exercise2(1.5, 'Elu')\n",
        "exercise2(-1.5, 'Elu')"
      ],
      "metadata": {
        "colab": {
          "base_uri": "https://localhost:8080/"
        },
        "id": "JNLk1uWyJl1H",
        "outputId": "aa307c11-065a-4b07-a6ea-dbefee05ae97"
      },
      "execution_count": 33,
      "outputs": [
        {
          "output_type": "stream",
          "name": "stdout",
          "text": [
            "Sigmoid: f(1.5)= 0.8175744761936437\n",
            "x must be a number\n",
            "belu is not supported\n",
            "Relu: f(1.5)= 1.5\n",
            "Relu: f(-1.5)= 0\n",
            "Elu: f(1.5)= 1.5\n",
            "Elu: f(-1.5)= -0.0077686983985157014\n"
          ]
        }
      ]
    },
    {
      "cell_type": "markdown",
      "source": [
        "# Exercise 3"
      ],
      "metadata": {
        "id": "aby17V6uKPo3"
      }
    },
    {
      "cell_type": "code",
      "source": [
        "import random"
      ],
      "metadata": {
        "id": "0X6RNrRZLGMf"
      },
      "execution_count": 34,
      "outputs": []
    },
    {
      "cell_type": "code",
      "source": [
        "def exercise3(num_samples, loss):\n",
        "  if not num_samples.isnumeric():\n",
        "    print('number of samples must be an integer number')\n",
        "    return\n",
        "\n",
        "  num_samples = int(num_samples)\n",
        "  for i in range(num_samples):\n",
        "    y_hat = random.uniform(0,10)\n",
        "    y = random.uniform(0,10)\n",
        "    if loss == 'MAE':\n",
        "      print(f'Loss name: {loss}, sample: {i}, pred: {y_hat}, target: {y}, loss: {1/2 * abs(y-y_hat)}')\n",
        "    elif loss == 'MSE':\n",
        "      print(f'Loss name: {loss}, sample: {i}, pred: {y_hat}, target: {y}, loss: {1/2 * (y-y_hat)**2}')\n",
        "    elif loss == 'RMSE':\n",
        "      print(f'Loss name: {loss}, sample: {i}, pred: {y_hat}, target: {y}, loss: {math.sqrt((1/2 * (y-y_hat)**2))}')\n",
        "    else:\n",
        "      print(f'{loss} is not supported')\n",
        "  print()"
      ],
      "metadata": {
        "id": "7XdIwQpPKgEK"
      },
      "execution_count": 47,
      "outputs": []
    },
    {
      "cell_type": "code",
      "source": [
        "exercise3('5', 'RMSE')\n",
        "exercise3('5', 'MSE')\n",
        "exercise3('5', 'MAE')\n",
        "exercise3('aa', 'MAE')\n"
      ],
      "metadata": {
        "colab": {
          "base_uri": "https://localhost:8080/"
        },
        "id": "mXUkl8j4Mc0f",
        "outputId": "3f454e31-b784-45a6-91d7-a7949dde82a2"
      },
      "execution_count": 49,
      "outputs": [
        {
          "output_type": "stream",
          "name": "stdout",
          "text": [
            "Loss name: RMSE, sample: 0, pred: 8.206206920598436, target: 6.619962271184598, loss: 1.1216443482214031\n",
            "Loss name: RMSE, sample: 1, pred: 4.575964285933958, target: 0.6169310975364717, loss: 2.7994592144584614\n",
            "Loss name: RMSE, sample: 2, pred: 9.579673354990835, target: 1.8384818527430757, loss: 5.473849005703067\n",
            "Loss name: RMSE, sample: 3, pred: 0.3955883525027992, target: 0.8625564837345534, loss: 0.330196332191983\n",
            "Loss name: RMSE, sample: 4, pred: 8.791286142905223, target: 7.788037387354937, loss: 0.7094039982665725\n",
            "\n",
            "Loss name: MSE, sample: 0, pred: 6.343041990345007, target: 3.442865540129362, loss: 4.20551172119271\n",
            "Loss name: MSE, sample: 1, pred: 4.846934761411125, target: 1.7484106362974627, loss: 4.8004258769556944\n",
            "Loss name: MSE, sample: 2, pred: 4.086267218362293, target: 7.2553698888179134, loss: 5.021605867944473\n",
            "Loss name: MSE, sample: 3, pred: 9.941936280918334, target: 6.85205038031512, loss: 4.773697439373268\n",
            "Loss name: MSE, sample: 4, pred: 6.507342716027521, target: 4.95881529717919, loss: 1.1989685834625374\n",
            "\n",
            "Loss name: MAE, sample: 0, pred: 6.486369942252913, target: 0.2592442530446515, loss: 3.1135628446041306\n",
            "Loss name: MAE, sample: 1, pred: 3.138449894698121, target: 6.3246205198808525, loss: 1.5930853125913658\n",
            "Loss name: MAE, sample: 2, pred: 5.668977532707212, target: 1.625191393081048, loss: 2.021893069813082\n",
            "Loss name: MAE, sample: 3, pred: 8.320347432941626, target: 1.5108080264516777, loss: 3.404769703244974\n",
            "Loss name: MAE, sample: 4, pred: 1.37570611157668, target: 6.131347440395264, loss: 2.377820664409292\n",
            "\n",
            "number of samples must be an integer number\n"
          ]
        }
      ]
    },
    {
      "cell_type": "markdown",
      "source": [
        "# Exercise 4"
      ],
      "metadata": {
        "id": "fZ7T3NEmN4U6"
      }
    },
    {
      "cell_type": "code",
      "source": [
        "def factorial(n):\n",
        "  if n <= 1: return 1\n",
        "  return n * factorial(n-1)\n",
        "\n",
        "def exercise4(x, n, fn):\n",
        "  n = int(n)\n",
        "\n",
        "  sum = 0\n",
        "  if fn == 'sin':\n",
        "    for i in range(n):\n",
        "      sum += (-1)**i * ((x**(2*i+1)) / factorial(2*i+1))\n",
        "\n",
        "  elif fn == 'cos':\n",
        "    for i in range(n):\n",
        "      sum += (-1)**i * ((x**(2*i)) / factorial(2*i))\n",
        "\n",
        "  elif fn == 'sinh':\n",
        "    for i in range(n):\n",
        "      sum += (x**(2*i+1)) / factorial(2*i+1)\n",
        "\n",
        "  elif fn == 'cosh':\n",
        "    for i in range(n):\n",
        "      sum +=(x**(2*i)) / factorial(2*i)\n",
        "  else:\n",
        "    print(f'{fn} is not supported')\n",
        "\n",
        "  print()\n",
        "  print(f'{fn}({x}) = {sum}')\n",
        ""
      ],
      "metadata": {
        "id": "xiVeucnkM_US"
      },
      "execution_count": 105,
      "outputs": []
    },
    {
      "cell_type": "code",
      "source": [
        "radian = 3.14\n",
        "\n",
        "exercise4(radian, 10, 'sin')\n",
        "print(f'math.sin({radian}) = {math.sin(radian)}')\n",
        "exercise4(radian, 10, 'cos')\n",
        "print(f'math.sin({radian}) = {math.cos(radian)}')\n",
        "exercise4(radian, 10, 'sinh')\n",
        "print(f'math.sin({radian}) = {math.sinh(radian)}')\n",
        "exercise4(radian, 10, 'cosh')\n",
        "print(f'math.sin({radian}) = {math.cosh(radian)}')"
      ],
      "metadata": {
        "colab": {
          "base_uri": "https://localhost:8080/"
        },
        "id": "ncH1_FPVO-Ag",
        "outputId": "92625e67-ab0a-4da1-f435-2237c2a09892"
      },
      "execution_count": 112,
      "outputs": [
        {
          "output_type": "stream",
          "name": "stdout",
          "text": [
            "\n",
            "sin(3.14) = 0.001592652393160744\n",
            "math.sin(3.14) = 0.0015926529164868282\n",
            "\n",
            "cos(3.14) = -0.9999987352210833\n",
            "math.sin(3.14) = -0.9999987317275395\n",
            "\n",
            "sinh(3.14) = 11.530292029865986\n",
            "math.sin(3.14) = 11.53029203041011\n",
            "\n",
            "cosh(3.14) = 11.573574824666185\n",
            "math.sin(3.14) = 11.573574828312076\n"
          ]
        }
      ]
    },
    {
      "cell_type": "markdown",
      "source": [
        "# Exercise 5\n"
      ],
      "metadata": {
        "id": "ujSLFzqMUTe3"
      }
    },
    {
      "cell_type": "code",
      "source": [
        "def exercise5(y, y_hat, n, p):\n",
        "  return ((y)**(1/n) - (y_hat)**(1/n))**p\n"
      ],
      "metadata": {
        "id": "QMNG_L7HUXcY"
      },
      "execution_count": 117,
      "outputs": []
    },
    {
      "cell_type": "code",
      "source": [
        "print(exercise5(y=100,y_hat=99.5,n=2,p=1))\n",
        "print(exercise5(y=50,y_hat=49.5,n=2,p=1))\n",
        "print(exercise5(y=20,y_hat=19.5,n=2,p=1))\n",
        "print(exercise5(y=0.6,y_hat=0.1,n=2,p=1))"
      ],
      "metadata": {
        "colab": {
          "base_uri": "https://localhost:8080/"
        },
        "id": "9tNtjQkmVrkB",
        "outputId": "add78fb8-0194-43f3-d318-7bc8dad571a9"
      },
      "execution_count": 120,
      "outputs": [
        {
          "output_type": "stream",
          "name": "stdout",
          "text": [
            "0.025031328369998107\n",
            "0.03544417213033135\n",
            "0.05625552183565574\n",
            "0.45836890322464546\n"
          ]
        }
      ]
    },
    {
      "cell_type": "markdown",
      "source": [
        "# Trắc nghiệm"
      ],
      "metadata": {
        "id": "K2wgxZwuWGzP"
      }
    },
    {
      "cell_type": "code",
      "source": [
        "def calc_f1_score(tp,fp,fn):\n",
        "  precision = tp / (tp + fp)\n",
        "  recall = tp / (tp + fn)\n",
        "  f1_score = 2 * ((precision * recall) / (precision + recall))\n",
        "  return f1_score\n",
        "\n",
        "assert round(calc_f1_score(tp=2,fp=3,fn=5),2)==0.33\n",
        "print(round(calc_f1_score(tp=2,fp=4,fn=5),2))\n",
        "\n",
        "# 1C"
      ],
      "metadata": {
        "colab": {
          "base_uri": "https://localhost:8080/"
        },
        "id": "z9z1v3aOWIfr",
        "outputId": "784064e5-3c17-4186-b43a-e7de9a6bd355"
      },
      "execution_count": 140,
      "outputs": [
        {
          "output_type": "stream",
          "name": "stdout",
          "text": [
            "0.31\n"
          ]
        }
      ]
    },
    {
      "cell_type": "code",
      "source": [
        "def is_number(x):\n",
        "  if isinstance(x, int): return True\n",
        "  return x.isnumeric()\n",
        "\n",
        "assert is_number(3) == 1.0\n",
        "assert is_number('-2a') == 0.0\n",
        "print(is_number(1))\n",
        "print(is_number('n'))\n",
        "\n",
        "# 2B"
      ],
      "metadata": {
        "colab": {
          "base_uri": "https://localhost:8080/"
        },
        "id": "0so9uSnPWn_2",
        "outputId": "80948ffb-d46d-4682-eb82-243f307f5ce8"
      },
      "execution_count": 135,
      "outputs": [
        {
          "output_type": "stream",
          "name": "stdout",
          "text": [
            "True\n",
            "False\n"
          ]
        }
      ]
    },
    {
      "cell_type": "code",
      "source": [
        "# 3C"
      ],
      "metadata": {
        "id": "x38yQUEaXl36"
      },
      "execution_count": null,
      "outputs": []
    },
    {
      "cell_type": "code",
      "source": [
        "def calc_sig(x):\n",
        "  return 1/(1+math.e**(-x))\n",
        "\n",
        "assert round(calc_sig(3),2) ==0.95\n",
        "print(round(calc_sig(2),2))\n",
        "\n",
        "# 4A"
      ],
      "metadata": {
        "colab": {
          "base_uri": "https://localhost:8080/"
        },
        "id": "96K8GaGxXzWF",
        "outputId": "c3f1b957-841c-4faa-f7a4-516b48372d30"
      },
      "execution_count": 141,
      "outputs": [
        {
          "output_type": "stream",
          "name": "stdout",
          "text": [
            "0.88\n"
          ]
        }
      ]
    },
    {
      "cell_type": "code",
      "source": [
        "def calc_elu(x):\n",
        "  return 0.01*(math.e**x-1) if x<=0 else x\n",
        "\n",
        "assert round(calc_elu(1))==1\n",
        "print(round(calc_elu(-1),2))\n",
        "\n",
        "# 5B"
      ],
      "metadata": {
        "colab": {
          "base_uri": "https://localhost:8080/"
        },
        "id": "YpWkK7DzZGAj",
        "outputId": "8a29d254-0ef2-436f-eb72-4651a9a307fb"
      },
      "execution_count": 142,
      "outputs": [
        {
          "output_type": "stream",
          "name": "stdout",
          "text": [
            "-0.01\n"
          ]
        }
      ]
    },
    {
      "cell_type": "code",
      "source": [
        "def calc_activation_func(x, act_name):\n",
        "  x = float(x)\n",
        "  act_name = act_name.lower()\n",
        "  if act_name == 'sigmoid':\n",
        "    return 1/(1+math.e**(-x))\n",
        "  elif act_name == 'relu':\n",
        "    return 0 if x<=0 else x\n",
        "  elif act_name == 'elu':\n",
        "    return 0.01*(math.e**x-1) if x<=0 else x\n",
        "  else:\n",
        "    return 0\n",
        "\n",
        "assert calc_activation_func(x=1,act_name='relu')==1\n",
        "print(round(calc_activation_func(x=3,act_name='sigmoid'),2))\n",
        "\n",
        "# 6A"
      ],
      "metadata": {
        "colab": {
          "base_uri": "https://localhost:8080/"
        },
        "id": "4CE_Y79paW4p",
        "outputId": "db4249d3-2929-49b9-e108-9bf7a761381b"
      },
      "execution_count": 144,
      "outputs": [
        {
          "output_type": "stream",
          "name": "stdout",
          "text": [
            "0.95\n"
          ]
        }
      ]
    },
    {
      "cell_type": "code",
      "source": [
        "def calc_ae(y,y_hat):\n",
        "  return abs(y-y_hat)\n",
        "\n",
        "y = 1\n",
        "y_hat = 6\n",
        "assert calc_ae(y,y_hat)==5\n",
        "y = 2\n",
        "y_hat = 9\n",
        "print(calc_ae(y,y_hat))\n",
        "\n",
        "# 7A"
      ],
      "metadata": {
        "colab": {
          "base_uri": "https://localhost:8080/"
        },
        "id": "YV3rt5J9a0QL",
        "outputId": "8b213c3d-e965-4e11-e3b7-3d728efc875c"
      },
      "execution_count": 145,
      "outputs": [
        {
          "output_type": "stream",
          "name": "stdout",
          "text": [
            "7\n"
          ]
        }
      ]
    },
    {
      "cell_type": "code",
      "source": [
        "def calc_se(y,y_hat):\n",
        "  return (y-y_hat)**2\n",
        "\n",
        "y = 4\n",
        "y_hat = 2\n",
        "assert calc_se(y,y_hat)==4\n",
        "print(calc_se(2,1))\n",
        "\n",
        "# 8A"
      ],
      "metadata": {
        "colab": {
          "base_uri": "https://localhost:8080/"
        },
        "id": "kuuFh9NabWy9",
        "outputId": "35035436-4b25-4e97-e153-2d2f0821ea01"
      },
      "execution_count": 146,
      "outputs": [
        {
          "output_type": "stream",
          "name": "stdout",
          "text": [
            "1\n"
          ]
        }
      ]
    },
    {
      "cell_type": "code",
      "source": [
        "def factorial(n):\n",
        "  if n <= 1: return 1\n",
        "  return n * factorial(n-1)\n",
        "\n",
        "def approx_cos(x, n):\n",
        "  n = int(n)\n",
        "  sum = 0\n",
        "\n",
        "  for i in range(n):\n",
        "    sum += (-1)**i * ((x**(2*i)) / factorial(2*i))\n",
        "  return sum\n",
        "\n",
        "\n",
        "assert round(approx_cos(x=1,n=10),2)==0.54\n",
        "print(round(approx_cos(x=3.14,n=10),2))\n",
        "\n",
        "# 9C"
      ],
      "metadata": {
        "colab": {
          "base_uri": "https://localhost:8080/"
        },
        "id": "HtvTIMHhbshg",
        "outputId": "aa4ae6a4-356a-4cde-deb5-83c6c08ae508"
      },
      "execution_count": 148,
      "outputs": [
        {
          "output_type": "stream",
          "name": "stdout",
          "text": [
            "-1.0\n"
          ]
        }
      ]
    },
    {
      "cell_type": "code",
      "source": [
        "def factorial(n):\n",
        "  if n <= 1: return 1\n",
        "  return n * factorial(n-1)\n",
        "\n",
        "def approx_sin(x, n):\n",
        "  n = int(n)\n",
        "\n",
        "  sum = 0\n",
        "  for i in range(n):\n",
        "    sum += (-1)**i * ((x**(2*i+1)) / factorial(2*i+1))\n",
        "\n",
        "  return sum\n",
        "\n",
        "assert round(approx_sin(x=1,n=10),4)==0.8415\n",
        "print(round(approx_sin(x=3.14,n=10),4))\n",
        "\n",
        "# 10A"
      ],
      "metadata": {
        "colab": {
          "base_uri": "https://localhost:8080/"
        },
        "id": "nRZEWBdRcimY",
        "outputId": "813df145-fd35-4bf4-e588-473734f07517"
      },
      "execution_count": 150,
      "outputs": [
        {
          "output_type": "stream",
          "name": "stdout",
          "text": [
            "0.0016\n"
          ]
        }
      ]
    },
    {
      "cell_type": "code",
      "source": [
        "def factorial(n):\n",
        "  if n <= 1: return 1\n",
        "  return n * factorial(n-1)\n",
        "\n",
        "def approx_sinh(x, n):\n",
        "  n = int(n)\n",
        "\n",
        "  sum = 0\n",
        "  for i in range(n):\n",
        "    sum += (x**(2*i+1)) / factorial(2*i+1)\n",
        "\n",
        "  return sum\n",
        "\n",
        "assert round(approx_sinh(x=1,n=10),2)==1.18\n",
        "print(round(approx_sinh(x=3.14,n=10),2))\n",
        "\n",
        "# 11A"
      ],
      "metadata": {
        "colab": {
          "base_uri": "https://localhost:8080/"
        },
        "id": "i0I_buDXc5qS",
        "outputId": "1e90447d-aa8c-41d5-f551-304a63b7515c"
      },
      "execution_count": 154,
      "outputs": [
        {
          "output_type": "stream",
          "name": "stdout",
          "text": [
            "11.53\n"
          ]
        }
      ]
    },
    {
      "cell_type": "code",
      "source": [
        "def factorial(n):\n",
        "  if n <= 1: return 1\n",
        "  return n * factorial(n-1)\n",
        "\n",
        "def approx_cosh(x, n):\n",
        "  n = int(n)\n",
        "\n",
        "  sum = 0\n",
        "  for i in range(n):\n",
        "    sum +=(x**(2*i)) / factorial(2*i)\n",
        "\n",
        "  return sum\n",
        "\n",
        "assert round(approx_cosh(x=1,n=10),2)==1.54\n",
        "print(round(approx_cosh(x=3.14,n=10),2))\n",
        "\n",
        "# 12A"
      ],
      "metadata": {
        "colab": {
          "base_uri": "https://localhost:8080/"
        },
        "id": "wTBJnKuBdF-g",
        "outputId": "dbbbc59a-0ad3-45d9-8d12-6b427ed2b208"
      },
      "execution_count": 157,
      "outputs": [
        {
          "output_type": "stream",
          "name": "stdout",
          "text": [
            "11.57\n"
          ]
        }
      ]
    },
    {
      "cell_type": "code",
      "source": [
        "# 13A"
      ],
      "metadata": {
        "id": "JWGr1x5Edism"
      },
      "execution_count": null,
      "outputs": []
    }
  ]
}